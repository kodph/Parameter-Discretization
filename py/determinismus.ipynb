{
 "cells": [
  {
   "cell_type": "code",
   "execution_count": 1,
   "metadata": {},
   "outputs": [
    {
     "name": "stderr",
     "output_type": "stream",
     "text": [
      "ldf is not supported\n"
     ]
    }
   ],
   "source": [
    "import toml\n",
    "import os\n",
    "from IOHandlers.carmaker import CarMakerHandler\n",
    "from Discretizers.fastdiscretizer import FastDiscretizer\n",
    "from Runners.carmaker import CarMakerRunner\n",
    "from PngHandlers.yolo import yoloHandler\n",
    "from ScoreCalculators.iou import IouScoreCalculator\n",
    "from Evaluation.GCI import GCIEvaluater\n",
    "import numpy as np "
   ]
  },
  {
   "cell_type": "markdown",
   "metadata": {},
   "source": [
    "**testrun** -> CM -> **PNG** -> YOLOv5 -> **labels(xxx.txt)**\n",
    "\n",
    "**testrun** -> CM -> **GT** -> **Metadata(xxx.toml)**"
   ]
  },
  {
   "cell_type": "markdown",
   "metadata": {},
   "source": [
    "**PNG** -> YOLOv5 -> **labels(xxx.txt)**"
   ]
  },
  {
   "cell_type": "code",
   "execution_count": 8,
   "metadata": {},
   "outputs": [
    {
     "name": "stdout",
     "output_type": "stream",
     "text": [
      "True\n",
      "True\n",
      "True\n",
      "True\n"
     ]
    }
   ],
   "source": [
    "for i in range(1,6):\n",
    "    png_path = r\"C:\\Arbeit\\parameter-discretization\\py\\Final_results\\determinismus\\Yolov5_samepng\\exp\" + str(i) + r\"\\labels\\test_distance.0.txt\"\n",
    "    with open(png_path) as ff:\n",
    "        label = ff.read()\n",
    "    if i > 1:\n",
    "        print(label_old == label)\n",
    "    label_old = label"
   ]
  },
  {
   "cell_type": "markdown",
   "metadata": {},
   "source": [
    "**testrun** -> CM -> **PNG**"
   ]
  },
  {
   "cell_type": "code",
   "execution_count": 28,
   "metadata": {},
   "outputs": [],
   "source": [
    "from PIL import Image\n",
    "from PIL import ImageChops\n",
    "def compare_images(img1, img2):\n",
    "    im1 = Image.open(img1).convert('RGB')\n",
    "    im2 = Image.open(img2).convert('RGB')\n",
    "    diff = ImageChops.difference(im1, im2)\n",
    "    pix = diff.load()\n",
    "    pixel_value = {}\n",
    "    #diff.show()\n",
    "    #pix1 = im1.load()\n",
    "    #pix2 = im2.load()\n",
    "    row, column = diff.size\n",
    "    for i in range(row):\n",
    "        for j in range(column):\n",
    "            if pix[i,j] != (0,0,0):\n",
    "                pixel_value[(i,j)] = pix[i,j]\n",
    "    return pixel_value "
   ]
  },
  {
   "cell_type": "code",
   "execution_count": 30,
   "metadata": {},
   "outputs": [],
   "source": [
    "images_results = []\n",
    "for i in range(1,5):\n",
    "    path1 = r\"C:\\Arbeit\\parameter-discretization\\py\\Final_results\\determinismus\\CM_sametestrun\\movie\" + str(i) + r\".png\"\n",
    "    path2 = r\"C:\\Arbeit\\parameter-discretization\\py\\Final_results\\determinismus\\CM_sametestrun\\movie\" + str(i+1) + r\".png\"\n",
    "    images_results.append(compare_images(path1, path2))"
   ]
  },
  {
   "cell_type": "code",
   "execution_count": 45,
   "metadata": {},
   "outputs": [
    {
     "data": {
      "text/plain": [
       "{(64, 285): (1, 1, 1),\n",
       " (65, 286): (1, 1, 1),\n",
       " (66, 285): (1, 0, 0),\n",
       " (66, 286): (0, 1, 0),\n",
       " (67, 285): (1, 1, 0),\n",
       " (79, 264): (0, 1, 0),\n",
       " (118, 254): (1, 1, 1),\n",
       " (603, 275): (0, 0, 1),\n",
       " (760, 265): (1, 1, 0),\n",
       " (761, 265): (1, 1, 0),\n",
       " (761, 266): (0, 0, 1),\n",
       " (763, 265): (0, 1, 0)}"
      ]
     },
     "execution_count": 45,
     "metadata": {},
     "output_type": "execute_result"
    }
   ],
   "source": [
    "images_results[3]"
   ]
  },
  {
   "cell_type": "markdown",
   "metadata": {},
   "source": [
    "**testrun** -> CM -> **PNG** -> YOLOv5 -> **labels(xxx.txt)**\n",
    "\n",
    "**testrun** -> CM -> **GT** -> **Metadata(xxx.toml)**"
   ]
  },
  {
   "cell_type": "code",
   "execution_count": 2,
   "metadata": {},
   "outputs": [],
   "source": [
    "runner = CarMakerRunner(executable_path=r\"C:\\IPG\\carmaker\\win64-10.0\\bin\\CM.exe\", convert_results=True, log_level=1)\n",
    "out_quants = ['Traffic.T00.tx', 'Traffic.T00.ty', 'Traffic.T00.tz']\n",
    "camera_name = 'Dev_Xu_frontcar'\n",
    "para_range = [50,51]\n",
    "for i in range(10):\n",
    "    input_handler = CarMakerHandler(r\"C:\\Arbeit\\Carmaker_test\\Data\\TestRun\\determinismus\\test\" + str(i)+ r\"\\test_distance\", 'Kreuzung_T_TTC.param')\n",
    "    _, grid_path = FastDiscretizer.generate_instances(input_handler, 1)\n",
    "    runner.simulate_movies(grid_path, out_quants, camera_name)\n",
    "    yoloHandler.evaluate_pngs(grid_path)\n",
    "    IouScoreCalculator.parse_results(grid_path, out_quants, camera_name)"
   ]
  },
  {
   "cell_type": "code",
   "execution_count": 56,
   "metadata": {},
   "outputs": [
    {
     "name": "stdout",
     "output_type": "stream",
     "text": [
      "[True, True, True, True, True, True, True, True, True] \n",
      " [True, True, True, True, True, True, True, True, True] \n",
      " ['0.6427083132951259', '0.6427026188077889', '0.6427050593023619', '0.6427050593023619', '0.6427091267933169', '0.6427034323059799', '0.6427058728005529', '0.6427026188077889', '0.6427083132951259'] \n",
      " ['0.6568253589044447', '0.6568182781455251', '0.6568129675763354', '0.6568173930506602', '0.6568173930506602', '0.6568235887147149', '0.6568156228609302', '0.6568173930506602', '0.6568120824814704'] \n",
      "\n"
     ]
    }
   ],
   "source": [
    "determin = []\n",
    "sc01 = []\n",
    "sc02 = []\n",
    "GT01 = []\n",
    "GT02 = []\n",
    "for i in range(9):\n",
    "    path01 = r\"C:\\Arbeit\\Carmaker_test\\Data\\TestRun\\determinismus\\test\" + str(i) + \"\\instances\\[50.0].toml\"\n",
    "    path02 = r\"C:\\Arbeit\\Carmaker_test\\Data\\TestRun\\determinismus\\test\" + str(i) + \"\\instances\\[51.0].toml\"\n",
    "    with open(path01) as ff:\n",
    "        result01 = toml.load(ff)\n",
    "        sc01.append(result01['results']['safetyscore'])\n",
    "        GT01.append((result01['results']['ipgresult'][\"Traffic.T00.tx\"], result01['results']['ipgresult'][\"Traffic.T00.ty\"],result01['results']['ipgresult'][\"Traffic.T00.tz\"]))\n",
    "    with open(path02) as ff:\n",
    "        result02 = toml.load(ff)\n",
    "        sc02.append(result02['results']['safetyscore'])\n",
    "        GT02.append((result02['results']['ipgresult'][\"Traffic.T00.tx\"], result02['results']['ipgresult'][\"Traffic.T00.ty\"],result02['results']['ipgresult'][\"Traffic.T00.tz\"]))\n",
    "GT_jug01 = [GT01[0] == i for i in GT01] \n",
    "GT_jug02 = [GT02[0] == i for i in GT02] \n",
    "print(GT_jug01,'\\n', GT_jug02,'\\n', sc01,'\\n', sc02,'\\n')  "
   ]
  }
 ],
 "metadata": {
  "interpreter": {
   "hash": "a077222d77dfe082b8f1dd562ad70e458ac2ab76993a0b248ab0476e32e9e8dd"
  },
  "kernelspec": {
   "display_name": "Python 3.9.7 ('base')",
   "language": "python",
   "name": "python3"
  },
  "language_info": {
   "codemirror_mode": {
    "name": "ipython",
    "version": 3
   },
   "file_extension": ".py",
   "mimetype": "text/x-python",
   "name": "python",
   "nbconvert_exporter": "python",
   "pygments_lexer": "ipython3",
   "version": "3.9.7"
  },
  "orig_nbformat": 4
 },
 "nbformat": 4,
 "nbformat_minor": 2
}
