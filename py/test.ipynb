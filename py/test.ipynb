{
 "cells": [
  {
   "cell_type": "code",
   "execution_count": 1,
   "metadata": {},
   "outputs": [
    {
     "name": "stderr",
     "output_type": "stream",
     "text": [
      "ldf is not supported\n"
     ]
    }
   ],
   "source": [
    "import toml\n",
    "from IOHandlers.carmaker import CarMakerHandler\n",
    "from Discretizers.fastdiscretizer import FastDiscretizer\n",
    "from Runners.carmaker import CarMakerRunner\n"
   ]
  },
  {
   "cell_type": "code",
   "execution_count": 2,
   "metadata": {},
   "outputs": [
    {
     "name": "stdout",
     "output_type": "stream",
     "text": [
      "{'Env.VisRangeInFog': '50, 10000, 2', 'Env.RainRate': '1, 50, 2'}\n"
     ]
    }
   ],
   "source": [
    "with open('Kreuzung_T_TTC.param', 'r') as toml_file:\n",
    "    params = toml.load(toml_file)\n",
    "print(params)"
   ]
  },
  {
   "cell_type": "code",
   "execution_count": 3,
   "metadata": {},
   "outputs": [],
   "source": [
    "input_handler = CarMakerHandler(r\"Carmaker_test\\Data\\TestRun\\Carmaker_test\", 'Kreuzung_T_TTC.param')"
   ]
  },
  {
   "cell_type": "code",
   "execution_count": 4,
   "metadata": {},
   "outputs": [],
   "source": [
    "runner = CarMakerRunner(executable_path=r\"C:\\IPG\\carmaker\\win64-10.0\\bin\\CM.exe\", project_path=r\"C:\\HiWi\\parameter-discretization\\py\\Carmaker_test\", convert_results=True, log_level=1)"
   ]
  },
  {
   "cell_type": "code",
   "execution_count": 5,
   "metadata": {},
   "outputs": [],
   "source": [
    "_, testrun_dir_path = FastDiscretizer.generate_instances(input_handler, target_path_pattern='%p%/%f_%y-%m-%d-%H-%M%/%f.%x%e')"
   ]
  },
  {
   "cell_type": "code",
   "execution_count": 6,
   "metadata": {},
   "outputs": [],
   "source": [
    "#erg_paths = runner.generate_results(testrun_dir_path)"
   ]
  },
  {
   "cell_type": "code",
   "execution_count": 7,
   "metadata": {},
   "outputs": [
    {
     "name": "stdout",
     "output_type": "stream",
     "text": [
      "Executing: C:\\IPG\\carmaker\\win64-10.0\\bin\\CM.exe -cmdport 1024\n",
      "Establishing TCP connection\n",
      "Project directory: C:/HiWi/parameter-discretization/py/Carmaker_test\n",
      "CarMaker Ready\n",
      "quit\n",
      "Executing: C:\\IPG\\carmaker\\win64-10.0\\bin\\CM.exe -cmdport 1024\n",
      "Establishing TCP connection\n",
      "Project directory: C:/HiWi/parameter-discretization/py/Carmaker_test\n",
      "CarMaker Ready\n",
      "quit\n",
      "Executing: C:\\IPG\\carmaker\\win64-10.0\\bin\\CM.exe -cmdport 1024\n",
      "Establishing TCP connection\n",
      "Project directory: C:/HiWi/parameter-discretization/py/Carmaker_test\n",
      "CarMaker Ready\n",
      "quit\n",
      "Executing: C:\\IPG\\carmaker\\win64-10.0\\bin\\CM.exe -cmdport 1024\n",
      "Establishing TCP connection\n",
      "Project directory: C:/HiWi/parameter-discretization/py/Carmaker_test\n",
      "CarMaker Ready\n",
      "quit\n",
      "Executing: C:\\IPG\\carmaker\\win64-10.0\\bin\\CM.exe -cmdport 1024\n",
      "Establishing TCP connection\n",
      "Project directory: C:/HiWi/parameter-discretization/py/Carmaker_test\n",
      "CarMaker Ready\n"
     ]
    }
   ],
   "source": [
    "runner.generate_movies(testrun_dir_path, mode='save_all')"
   ]
  }
 ],
 "metadata": {
  "interpreter": {
   "hash": "6d46af94c2bbce495f1e668725902fa517c90b1782bcfe2fce0dd9868df553d3"
  },
  "kernelspec": {
   "display_name": "Python 3.9.7 ('base')",
   "language": "python",
   "name": "python3"
  },
  "language_info": {
   "codemirror_mode": {
    "name": "ipython",
    "version": 3
   },
   "file_extension": ".py",
   "mimetype": "text/x-python",
   "name": "python",
   "nbconvert_exporter": "python",
   "pygments_lexer": "ipython3",
   "version": "3.9.7"
  },
  "orig_nbformat": 4
 },
 "nbformat": 4,
 "nbformat_minor": 2
}
