{
 "cells": [
  {
   "cell_type": "code",
   "execution_count": 1,
   "metadata": {},
   "outputs": [
    {
     "name": "stderr",
     "output_type": "stream",
     "text": [
      "ldf is not supported\n"
     ]
    }
   ],
   "source": [
    "import toml\n",
    "import os\n",
    "from IOHandlers.carmaker import CarMakerHandler\n",
    "from Discretizers.fastdiscretizer import FastDiscretizer\n",
    "from Runners.carmaker import CarMakerRunner\n",
    "from PngHandlers.yolo import yoloHandler\n",
    "from ScoreCalculators.iou import IouScoreCalculator\n",
    "from Evaluaters.GCI import GCIEvaluater"
   ]
  },
  {
   "cell_type": "code",
   "execution_count": 2,
   "metadata": {},
   "outputs": [],
   "source": [
    "input_handler = CarMakerHandler(r\"C:\\Arbeit\\Carmaker_test\\Data\\TestRun\\Testfog\\test_fog\", 'fog.param')"
   ]
  },
  {
   "cell_type": "code",
   "execution_count": 3,
   "metadata": {},
   "outputs": [],
   "source": [
    "runner = CarMakerRunner(executable_path=r\"C:\\IPG\\carmaker\\win64-10.0\\bin\\CM.exe\", convert_results=True, log_level=1)"
   ]
  },
  {
   "cell_type": "code",
   "execution_count": 2,
   "metadata": {},
   "outputs": [],
   "source": [
    "#out_quants = ['Traffic.T00.tx', 'Traffic.T00.ty', 'Traffic.T00.tz']\n",
    "#camera_name = 'Dev_Xu_frontcar'\n",
    "out_quants = ['Vhcl.Fr1.x', 'Vhcl.Fr1.y', 'Vhcl.Fr1.z']\n",
    "camera_name = 'Dev_Xu'\n",
    "para_range = [11,12]"
   ]
  },
  {
   "cell_type": "code",
   "execution_count": null,
   "metadata": {},
   "outputs": [],
   "source": [
    "for i in range(1,12):\n",
    "    _, grid_path = FastDiscretizer.generate_instances(input_handler, i)\n",
    "    runner.simulate_movies(grid_path, out_quants, camera_name)\n",
    "    yoloHandler.evaluate_pngs(grid_path)\n",
    "    IouScoreCalculator.parse_results(grid_path, out_quants, camera_name)\n",
    "    GCIEvaluater.evaluation(grid_path, para_range)"
   ]
  }
 ],
 "metadata": {
  "kernelspec": {
   "display_name": "Python 3.9.12 ('base')",
   "language": "python",
   "name": "python3"
  },
  "language_info": {
   "codemirror_mode": {
    "name": "ipython",
    "version": 3
   },
   "file_extension": ".py",
   "mimetype": "text/x-python",
   "name": "python",
   "nbconvert_exporter": "python",
   "pygments_lexer": "ipython3",
   "version": "3.9.12"
  },
  "orig_nbformat": 4,
  "vscode": {
   "interpreter": {
    "hash": "500f5463fac522d16f5fb9404df998bb0ad5e12309a861215c38bf8abd0287f6"
   }
  }
 },
 "nbformat": 4,
 "nbformat_minor": 2
}
